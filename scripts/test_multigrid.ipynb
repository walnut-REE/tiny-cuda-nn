{
 "cells": [
  {
   "cell_type": "code",
   "execution_count": 1,
   "metadata": {},
   "outputs": [
    {
     "name": "stdout",
     "output_type": "stream",
     "text": [
      "01100011\n",
      "{'base_resolution': 2, 'hash': 'CoherentPrime', 'interpolation': 'Linear', 'log2_hashmap_size': 1, 'n_features_per_level': 2, 'n_levels': 1, 'n_primitives': 8, 'offset': '0:2', 'optimizable': '01100011', 'otype': 'Grid', 'per_level_scale': 2.0, 'type': 'Hash'}\n",
      "*** x:  7.987792491912842 0.0013281152350828052\n",
      "tensor([[-7.0460e-05, -3.4031e-05,  3.8013e-05, -8.2787e-05],\n",
      "        [-5.7177e-05, -4.5674e-05, -6.2585e-06,  1.4732e-05],\n",
      "        [ 5.8778e-05,  4.0919e-05,  4.8354e-05,  8.2234e-05],\n",
      "        [-3.9703e-05, -5.8220e-05,  6.0543e-05,  5.6743e-05],\n",
      "        [ 9.4432e-05,  4.5338e-05, -7.7158e-05,  5.4780e-05],\n",
      "        [ 6.6135e-05, -1.0776e-05,  9.9200e-05,  5.8157e-05],\n",
      "        [ 4.1833e-05,  5.6748e-05, -3.7402e-05,  6.8916e-05],\n",
      "        [ 3.8633e-05, -1.3966e-05,  2.0454e-05, -3.1430e-05]], device='cuda:0',\n",
      "       grad_fn=<ViewBackward0>)\n",
      "tensor([[-7.0460e-05, -3.4031e-05,  3.8013e-05, -8.2787e-05],\n",
      "        [-2.0000e+01, -2.0000e+01, -2.0000e+01, -2.0000e+01],\n",
      "        [-2.0001e+01, -2.0001e+01, -2.0001e+01, -2.0000e+01],\n",
      "        [-3.9703e-05, -5.8220e-05,  6.0543e-05,  5.6743e-05],\n",
      "        [ 9.4432e-05,  4.5338e-05, -7.7158e-05,  5.4780e-05],\n",
      "        [ 6.6135e-05, -1.0776e-05,  9.9200e-05,  5.8157e-05],\n",
      "        [-2.0000e+01, -2.0000e+01, -2.0000e+01, -2.0000e+01],\n",
      "        [-2.0001e+01, -2.0001e+01, -2.0001e+01, -2.0001e+01]], device='cuda:0',\n",
      "       grad_fn=<ViewBackward0>)\n"
     ]
    }
   ],
   "source": [
    "import torch\n",
    "import tinycudann as tcnn\n",
    "\n",
    "from torch import autograd\n",
    "from torch.optim import Adam\n",
    "\n",
    "# construct optimizables.\n",
    "n_primitives = 1500\n",
    "optimizables = list(range(n_primitives)) - [1, 2, 6, 7]\n",
    "optm_str = ['0']*n_primitives\n",
    "for idx in optimizables: optm_str[idx] = '1'\n",
    "optm_str = \"\".join(optm_str)\n",
    "print(optm_str)\n",
    "\n",
    "# build encoding\n",
    "enc_cfg = {\n",
    "    \"otype\": \"HashGrid\",\n",
    "    \"n_levels\": 1,\n",
    "    \"n_features_per_level\": 2,\n",
    "    \"log2_hashmap_size\": 4,\n",
    "    \"base_resolution\": 2,\n",
    "    \"per_level_scale\": 2.0,\n",
    "    \"n_primitives\": 8,\n",
    "    \"optimizables\": optm_str\n",
    "}\n",
    "\n",
    "encoding = tcnn.Encoding(\n",
    "    n_input_dims=3,\n",
    "    encoding_config = enc_cfg\n",
    ")\n",
    "print(encoding._native_tcnn_module().hyperparams())\n",
    "\n",
    "\n",
    "# test optimization\n",
    "num_samples = 256\n",
    "x = torch.rand(num_samples, 3, device='cuda')\n",
    "x = x + torch.randint(0, 8, (num_samples, 1), device=\"cuda\") \n",
    "print('*** x: ', x.max().item(), x.min().item())\n",
    "\n",
    "optimizer = Adam(encoding.parameters(), 2.0e-3)\n",
    "\n",
    "print(encoding.params.clone().view(-1, 4))\n",
    "for i in range(10000):\n",
    "    y = encoding(x)\n",
    "    loss = y.sum()\n",
    "\n",
    "    optimizer.zero_grad()\n",
    "    loss.backward()\n",
    "    optimizer.step()\n",
    "print(encoding.params.clone().view(-1, 4))"
   ]
  },
  {
   "cell_type": "code",
   "execution_count": null,
   "metadata": {},
   "outputs": [],
   "source": []
  }
 ],
 "metadata": {
  "kernelspec": {
   "display_name": "dmodel",
   "language": "python",
   "name": "python3"
  },
  "language_info": {
   "codemirror_mode": {
    "name": "ipython",
    "version": 3
   },
   "file_extension": ".py",
   "mimetype": "text/x-python",
   "name": "python",
   "nbconvert_exporter": "python",
   "pygments_lexer": "ipython3",
   "version": "3.9.12"
  },
  "orig_nbformat": 4,
  "vscode": {
   "interpreter": {
    "hash": "df391c8f46c8c6ed38dd4f7e76907d5a9b2a5b1ec14a38afe7d27994a1563371"
   }
  }
 },
 "nbformat": 4,
 "nbformat_minor": 2
}
